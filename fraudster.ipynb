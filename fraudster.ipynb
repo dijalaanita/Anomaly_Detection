{
 "cells": [
  {
   "cell_type": "code",
   "execution_count": 11,
   "id": "b0db2254",
   "metadata": {},
   "outputs": [],
   "source": [
    "import pandas as pd\n",
    "import numpy as np\n",
    "from sklearn import preprocessing, metrics\n",
    "from sklearn.metrics import confusion_matrix, classification_report\n",
    "from sklearn.metrics import accuracy_score, classification_report\n",
    "import matplotlib.pyplot as plt\n",
    "from sklearn.model_selection import train_test_split\n",
    "from sklearn import metrics"
   ]
  },
  {
   "cell_type": "markdown",
   "id": "bf694784",
   "metadata": {},
   "source": [
    "Load and explore datase"
   ]
  },
  {
   "cell_type": "code",
   "execution_count": null,
   "id": "a4239939",
   "metadata": {},
   "outputs": [],
   "source": [
    "df = pd.read_csv('creditcard.csv')\n",
    "print(df.shape)\n",
    "print(df.head(3))\n",
    "#print(df.describe())"
   ]
  },
  {
   "cell_type": "markdown",
   "id": "1eafdc14",
   "metadata": {},
   "source": [
    "Scaling"
   ]
  },
  {
   "cell_type": "markdown",
   "id": "2054e283",
   "metadata": {},
   "source": [
    "data cleaning"
   ]
  },
  {
   "cell_type": "code",
   "execution_count": null,
   "id": "027e0814",
   "metadata": {},
   "outputs": [],
   "source": [
    "df.dropna()  # Drop rows with missing values\n"
   ]
  },
  {
   "cell_type": "markdown",
   "id": "e0bb8edc",
   "metadata": {},
   "source": [
    "Split and undersample dataset with SMOTE"
   ]
  },
  {
   "cell_type": "code",
   "execution_count": 18,
   "id": "6bef74b3",
   "metadata": {},
   "outputs": [],
   "source": [
    "# In a notebook cell:\n",
    "# !pip install imbalanced-learn\n",
    "\n",
    "X = df.drop('Class', axis=1)\n",
    "y = df['Class']\n",
    "\n",
    "# from imblearn.over_sampling import SMOTE\n",
    "# smote = SMOTE(random_state=42)\n",
    "# X_resampled, y_resampled = smote.fit_resample(X, y)\n",
    "\n",
    "# print(\"Original dataset shape:\", Counter(y))\n",
    "# print(\"Resampled dataset shape:\", Counter(y_resampled))\n",
    "\n",
    "X_train, X_test, y_train, y_test = train_test_split(X_resampled, y_resampled, test_size=0.2, random_state=42)\n",
    "\n",
    "# print(\"Training set shape:\", X_train.shape)\n",
    "# print(\"Test set shape:\", X_test.shape)"
   ]
  },
  {
   "cell_type": "code",
   "execution_count": 31,
   "id": "c5b92233",
   "metadata": {},
   "outputs": [],
   "source": [
    "# performing preprocessing part\n",
    "from sklearn.preprocessing import StandardScaler\n",
    "sc = StandardScaler()\n",
    "\n",
    "X_train = sc.fit_transform(X_train)\n",
    "X_test = sc.transform(X_test)"
   ]
  },
  {
   "cell_type": "code",
   "execution_count": 32,
   "id": "3d625713",
   "metadata": {},
   "outputs": [],
   "source": [
    "# Applying PCA function on training\n",
    "# and testing set of X component\n",
    "from sklearn.decomposition import PCA\n",
    "\n",
    "pca = PCA(n_components=2)\n",
    "\n",
    "X_train = pca.fit_transform(X_train)\n",
    "X_test = pca.transform(X_test)\n",
    "\n",
    "explained_variance = pca.explained_variance_ratio_"
   ]
  },
  {
   "cell_type": "code",
   "execution_count": null,
   "id": "dc1c8f13",
   "metadata": {},
   "outputs": [],
   "source": [
    "from sklearn.ensemble import RandomForestClassifier\n",
    "\n",
    "# Training\n",
    "randfor = RandomForestClassifier(n_estimators=100,class_weight='balanced', random_state=42)\n",
    "randfor.fit(X_train, y_train)\n",
    "forest_pred = randfor.predict(X_test)\n",
    "\n",
    "# Accuracy\n",
    "print(f\"Random Forest model accuracy = {accuracy_score(y_test, forest_pred) * 100:.2f}%\")\n",
    "\n",
    "# Precision\n",
    "Precision = metrics.precision_score(y_test, forest_pred)\n",
    "print(f\"Precision = {Precision * 100:.2f}%\")\n",
    "\n",
    "#Recall\n",
    "recall = metrics.recall_score(y_test, forest_pred)\n",
    "print(f\"Recall = {recall * 100:.2f}%%\")\n",
    "\n",
    "# Confusion matrix\n",
    "# cm = confusion_matrix(y_test, forest_pred)\n",
    "# print(f\"Confusion Matrix = \", cm)\n",
    "\n",
    "print(\"Classification Report:\\n\", classification_report(y_test, forest_pred))\n",
    "\n",
    "# cm_display = metrics.ConfusionMatrixDisplay(confusion_matrix = cm, display_labels = [0, 1])\n",
    "# cm_display.plot()\n",
    "# plt.show()\n"
   ]
  },
  {
   "cell_type": "code",
   "execution_count": 37,
   "id": "2d11d0ad",
   "metadata": {},
   "outputs": [
    {
     "name": "stdout",
     "output_type": "stream",
     "text": [
      "0.8135188962946028\n",
      "0.8141585917028648\n",
      "XGBoost model accuracy: 81.42%\n",
      "Precision = 73.69%\n",
      "Recall = 97.83%%\n",
      "Classification Report:\n",
      "               precision    recall  f1-score   support\n",
      "\n",
      "           0       0.97      0.65      0.78     56750\n",
      "           1       0.74      0.98      0.84     56976\n",
      "\n",
      "    accuracy                           0.81    113726\n",
      "   macro avg       0.85      0.81      0.81    113726\n",
      "weighted avg       0.85      0.81      0.81    113726\n",
      "\n"
     ]
    }
   ],
   "source": [
    "import xgboost as xgb\n",
    "# Training the classifier\n",
    "xgb_classifier = xgb.XGBClassifier(n_estimators=100, objective='binary:logistic', tree_method='hist', eta=0.1, max_depth=3, enable_categorical=True, scale_pos_weight=10)\n",
    "xgb_classifier.fit(X_train, y_train)\n",
    "print(xgb_classifier.score(X_train,y_train))\n",
    "print(xgb_classifier.score(X_test,y_test))\n",
    "\n",
    "# Testing\n",
    "xgb_predict = xgb_classifier.predict(X_test)\n",
    "\n",
    "print(f\"XGBoost model accuracy: {accuracy_score(y_test, xgb_predict) * 100:.2f}%\")\n",
    "\n",
    "# Precision\n",
    "Precision = metrics.precision_score(y_test, xgb_predict)\n",
    "print(f\"Precision = {Precision * 100:.2f}%\")\n",
    "\n",
    "#Recall\n",
    "recall = metrics.recall_score(y_test, xgb_predict)\n",
    "print(f\"Recall = {recall * 100:.2f}%%\")\n",
    "\n",
    "# Confusion matrix\n",
    "# cm = confusion_matrix(y_test, xgb_predict)\n",
    "# print(f\"Confusion Matrix = \", cm)\n",
    "\n",
    "print(\"Classification Report:\\n\", classification_report(y_test, xgb_predict))\n",
    "\n",
    "# cm_display = metrics.ConfusionMatrixDisplay(confusion_matrix = cm, display_labels = [0, 1])\n",
    "# cm_display.plot()\n",
    "# plt.show()"
   ]
  }
 ],
 "metadata": {
  "kernelspec": {
   "display_name": ".venv",
   "language": "python",
   "name": "python3"
  },
  "language_info": {
   "codemirror_mode": {
    "name": "ipython",
    "version": 3
   },
   "file_extension": ".py",
   "mimetype": "text/x-python",
   "name": "python",
   "nbconvert_exporter": "python",
   "pygments_lexer": "ipython3",
   "version": "3.12.2"
  }
 },
 "nbformat": 4,
 "nbformat_minor": 5
}
